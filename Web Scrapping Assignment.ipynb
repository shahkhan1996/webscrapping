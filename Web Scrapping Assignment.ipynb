{
 "cells": [
  {
   "cell_type": "code",
   "execution_count": 8,
   "id": "d58bcca9-fdb8-4ef3-883d-fb3d2b3e4447",
   "metadata": {},
   "outputs": [],
   "source": [
    "import requests\n",
    "from bs4 import BeautifulSoup\n",
    "import pandas as pd"
   ]
  },
  {
   "cell_type": "code",
   "execution_count": 2,
   "id": "c0b9301a-bed8-48a2-a062-f8d4dbe51b96",
   "metadata": {},
   "outputs": [],
   "source": [
    "url = \"https://en.wikipedia.org/wiki/List_of_largest_companies_in_the_United_States_by_revenue\"\n",
    "response = requests.get(url)\n",
    "page_content = response.content\n"
   ]
  },
  {
   "cell_type": "code",
   "execution_count": 3,
   "id": "c2c4f882-17e6-4c5f-b9a2-102ecd201f16",
   "metadata": {},
   "outputs": [],
   "source": [
    "soup = BeautifulSoup(page_content, 'html.parser')\n"
   ]
  },
  {
   "cell_type": "code",
   "execution_count": 4,
   "id": "2667f470-8fc3-4ed6-b3cc-d50f9434abdf",
   "metadata": {},
   "outputs": [],
   "source": [
    "tables = soup.find_all('table')\n"
   ]
  },
  {
   "cell_type": "code",
   "execution_count": 5,
   "id": "e5e3a1b2-446f-4069-95cf-bd1330d21d60",
   "metadata": {},
   "outputs": [
    {
     "name": "stdout",
     "output_type": "stream",
     "text": [
      "\n",
      "Table 1:\n",
      "Headers: ['Rank', 'Name', 'Industry', 'Revenue (USD millions)', 'Revenue growth', 'Employees', 'Headquarters']\n",
      "['1', 'Walmart', 'Retail', '648,125', '6.0%', '2,100,000', 'Bentonville, Arkansas']\n",
      "['2', 'Amazon', 'Retail and cloud computing', '574,785', '11.9%', '1,525,000', 'Seattle, Washington']\n",
      "['3', 'Apple', 'Electronics industry', '383,482', '-2.8%', '161,000', 'Cupertino, California']\n",
      "['4', 'UnitedHealth Group', 'Healthcare', '371,622', '14.6%', '440,000', 'Minnetonka, Minnesota']\n",
      "['5', 'Berkshire Hathaway', 'Conglomerate', '364,482', '20.7%', '396,500', 'Omaha, Nebraska']\n",
      "['6', 'CVS Health', 'Healthcare', '357,776', '10.9%', '259,500', 'Woonsocket, Rhode Island']\n",
      "['7', 'ExxonMobil', 'Petroleum industry', '344,582', '-16.7%', '61,500', 'Spring, Texas']\n",
      "['8', 'Alphabet', 'Technology and cloud computing', '307,394', '8.7%', '182,502', 'Mountain View, California']\n",
      "['9', 'McKesson Corporation', 'Health', '276,711', '4.8%', '48,000', 'Irving, Texas']\n",
      "['10', 'Cencora', 'Pharmacy wholesale', '262,173', '9.9%', '44,000', 'Conshohocken, Pennsylvania']\n",
      "['11', 'Costco', 'Retail', '242,290', '6.8%', '316,000', 'Issaquah, Washington']\n",
      "['12', 'JPMorgan Chase', 'Financial services', '239,425', '54.7%', '309,926', 'New York City, New York']\n",
      "['13', 'Microsoft', 'Technology and cloud computing', '211,915', '6.9%', '221,000', 'Redmond, Washington']\n",
      "['14', 'Cardinal Health', 'Healthcare', '205,012', '13.0%', '47,520', 'Dublin, Ohio']\n",
      "['15', 'Chevron Corporation', 'Petroleum industry', '200,949', '-18.4%', '45,600', 'Houston, Texas']\n",
      "['16', 'Cigna', 'Health insurance', '195,265', '8.2%', '71,413', 'Bloomfield, Connecticut']\n",
      "['17', 'Ford Motor Company', 'Automotive industry', '176,191', '11.5%', '177,000', 'Dearborn, Michigan']\n",
      "['18', 'Bank of America', 'Financials', '171,912', '49.4%', '212,985', 'Charlotte, North Carolina']\n",
      "['19', 'General Motors', 'Automotive industry', '171,842', '9.6%', '163,000', 'Detroit, Michigan']\n",
      "['20', 'Elevance Health', 'Healthcare', '171,340', '9.4%', '104,900', 'Indianapolis, Indiana']\n",
      "['21', 'Citigroup', 'Financials', '156,820', '55.1%', '237,925', 'New York City, New York']\n",
      "['22', 'Centene', 'Healthcare', '153,999', '6.5%', '67,700', 'St. Louis, Missouri']\n",
      "['23', 'The Home Depot', 'Retail', '152,669', '-3.0%', '463,100', 'Atlanta, Georgia']\n",
      "['24', 'Marathon Petroleum', 'Petroleum industry', '150,307', '-16.5%', '18,200', 'Findlay, Ohio']\n",
      "['25', 'Kroger', 'Retail', '150,039', '-3.6%', '414,000', 'Cincinnati, Ohio']\n",
      "['26', 'Phillips 66', 'Petroleum industry', '149,890', '-14.7%', '14,000', 'Houston, Texas']\n",
      "['27', 'Fannie Mae', 'Financials', '141,240', '16.2%', '8,100', 'Washington, D.C.']\n",
      "['28', 'Walgreens Boots Alliance', 'Pharmaceutical industry', '139,081', '4.8%', '268,500', 'Deerfield, Illinois']\n",
      "['29', 'Valero Energy', 'Petroleum industry', '139,001', '-18.8%', '9,987', 'San Antonio, Texas']\n",
      "['30', 'Meta Platforms', 'Technology', '134,902', '15.7%', '67,317', 'Menlo Park, California']\n",
      "['31', 'Verizon Communications', 'Telecommunications', '133,974', '-2.1%', '105,400', 'New York City, New York']\n",
      "['32', 'AT&T', 'Conglomerate and telecommunications', '122,428', '1.4%', '150,470', 'Dallas, Texas']\n",
      "['33', 'Comcast', 'Telecommunications', '121,572', '0.1%', '186,000', 'Philadelphia, Pennsylvania']\n",
      "['34', 'Wells Fargo', 'Financials', '115,340', '39.2%', '226,000', 'San Francisco, California']\n",
      "['35', 'Goldman Sachs', 'Financials', '108,418', '57.8%', '45,300', 'New York City, New York']\n",
      "['36', 'Freddie Mac', 'Financials', '108,050', '24.6%', '8,020', 'McLean, Virginia']\n",
      "['37', 'Target Corporation', 'Retail', '107,412', '-1.6%', '415,000', 'Minneapolis, Minnesota']\n",
      "['38', 'Humana', 'Health insurance', '106,374', '14.5%', '67,600', 'Louisville, Kentucky']\n",
      "['39', 'State Farm', 'Financials', '104,199', '16.6%', '65,054', 'Bloomington, Illinois']\n",
      "['40', 'Tesla', 'Automotive and energy', '96,773', '18.8%', '140,473', 'Austin, Texas']\n",
      "['41', 'Morgan Stanley', 'Financials', '96,194', '45.9%', '80,006', 'New York City, New York']\n",
      "['42', 'Johnson & Johnson', 'Pharmaceutical industry', '95,195', '0.3%', '131,900', 'New Brunswick, New Jersey']\n",
      "['43', 'Archer Daniels Midland', 'Food industry', '93,935', '-7.5%', '41,008', 'Chicago, Illinois']\n",
      "['44', 'PepsiCo', 'Beverage', '91,471', '5.9%', '318,000', 'Purchase, New York']\n",
      "['45', 'United Parcel Service', 'Transportation', '90,958', '-9.3%', '382,550', 'Atlanta, Georgia']\n",
      "['46', 'FedEx', 'Transportation', '90,155', '-3.6%', '446,400', 'Memphis, Tennessee']\n",
      "['47', 'The Walt Disney Company', 'Media', '88,898', '7.5%', '199,125', 'Burbank, California']\n",
      "['48', 'Dell Technologies', 'Technology', '88,425', '-13.6%', '120,000', 'Round Rock, Texas']\n",
      "['49', \"Lowe's\", 'Retail', '86,377', '-11.0%', '226,000', 'Mooresville, North Carolina']\n",
      "['50', 'Procter & Gamble', 'Consumer products manufacturing', '82,006', '2.3%', '107,000', 'Cincinnati, Ohio']\n",
      "['51', 'Energy Transfer Partners', 'Petroleum industry', '78,586', '-12.6%', '13,786', 'Dallas, Texas']\n",
      "['52', 'Boeing', 'Aerospace and defense', '77,794', '16.8%', '171,000', 'Arlington County, Virginia']\n",
      "['53', 'Albertsons', 'Retail', '77,650', '8.0%', '198,650', 'Boise, Idaho']\n",
      "['54', 'Sysco', 'Food service', '76,325', '11.2%', '71,750', 'Houston, Texas']\n",
      "['55', 'RTX Corporation', 'Conglomerate', '68,920', '2.8%', '185,000', 'Arlington County, Virginia']\n",
      "['56', 'General Electric', 'Conglomerate', '67,954', '-11.2%', '125,000', 'Boston, Massachusetts']\n",
      "['57', 'Lockheed Martin', 'Aerospace and defense', '67,571', '2.4%', '122,000', 'Bethesda, Maryland']\n",
      "['58', 'American Express', 'Financial', '67,364', '21.1%', '74,600', 'New York City, New York']\n",
      "['59', 'Caterpillar', 'Machinery', '67,060', '12.8%', '113,200', 'Irving, Texas']\n",
      "['60', 'MetLife', 'Financials', '66,905', '-4.3%', '45,000', 'New York City, New York']\n",
      "['61', 'HCA Healthcare', 'Healthcare', '64,968', '7.9%', '265,000', 'Nashville, Tennessee']\n",
      "['62', 'Progressive Corporation', 'Insurance', '62,109', '25.2%', '61,432', 'Mayfield Village, Ohio']\n",
      "['63', 'IBM', 'Technology and cloud computing', '61,860', '-16.3%', '296,600', 'Armonk, New York']\n",
      "['64', 'John Deere', 'Agriculture manufacturing', '61,251', '16.5%', '82,956', 'Moline, Illinois']\n",
      "['65', 'Nvidia', 'Technology', '60,922', '125.9%', '29,600', 'Santa Clara, California']\n",
      "['66', 'StoneX Group', 'Financials', '60,856', '-7.8%', '4,137', 'New York City, New York']\n",
      "['67', 'Merck & Co.', 'Pharmaceutical industry', '60,115', '1.4%', '71,000', 'Kenilworth, New Jersey']\n",
      "['68', 'ConocoPhillips', 'Petroleum industry', '58,574', '-28.7%', '9,900', 'Houston, Texas']\n",
      "['69', 'Pfizer', 'Pharmaceutical industry', '58,496', '-41.7%', '88,000', 'New York City, New York']\n",
      "['70', 'Delta Air Lines', 'Airline', '58,048', '14.8%', '103,000', 'Atlanta, Georgia']\n",
      "['71', 'TD Synnex', 'Infotech', '57,555', '-7.7%', '28,000', 'Clearwater, Florida']\n",
      "['72', 'Publix', 'Retail', '57,534', '4.7%', '253,000', 'Lakeland, Florida']\n",
      "['73', 'Allstate', 'Insurance', '57,094', '11.1%', '53,200', 'Northfield Township, Cook County, Illinois']\n",
      "['74', 'Cisco', 'Telecom hardware manufacturing', '56,998', '10.6%', '84,900', 'San Jose, California']\n",
      "['75', 'Nationwide Mutual Insurance Company', 'Financial', '54,609', '6.1%', '24,118', 'Columbus, Ohio']\n",
      "['76', 'Charter Communications', 'Telecommunications', '54,607', '1.1%', '101,100', 'Stamford, Connecticut']\n",
      "['77', 'AbbVie', 'Pharmaceutical industry', '54,317', '-6.4%', '50,000', 'Lake Bluff, Illinois']\n",
      "['78', 'New York Life Insurance Company', 'Insurance', '54,317', '14.2%', '15,384', 'New York City, New York']\n",
      "['79', 'Intel', 'Technology', '54,228', '-14.0%', '124,800', 'Santa Clara, California']\n",
      "['80', 'TJX', 'Retail', '49,936', '2.9%', '329,000', 'Framingham, Massachusetts']\n",
      "['81', 'Prudential Financial', 'Financials', '53,979', '-10.1%', '40,366', 'Newark, New Jersey']\n",
      "['82', 'HP', 'Technology', '53,718', '-14.5%', '58,000', 'Palo Alto, California']\n",
      "['83', 'United Airlines', 'Airline', '53,717', '19.5%', '103,300', 'Chicago, Illinois']\n",
      "['84', 'Performance Food Group', 'Food processing', '53,355', '13.1%', '34,825', 'Richmond, Virginia']\n",
      "['85', 'Tyson Foods', 'Food processing', '52,788', '-0.8%', '139,000', 'Springdale, Arkansas']\n",
      "['86', 'American Airlines', 'Airline', '52,788', '7.8%', '132,100', 'Fort Worth, Texas']\n",
      "['87', 'Liberty Mutual', 'Insurance', '52,612', '5.3%', '45,000', 'Boston, Massachusetts']\n",
      "['88', 'Nike', 'Apparel', '51,217', '9.6%', '83,700', 'Beaverton, Oregon']\n",
      "['89', 'Oracle Corporation', 'Technology', '49,954', '17.7%', '164,000', 'Austin, Texas']\n",
      "['90', 'Enterprise Products', 'Petroleum industry', '49,715', '-14.6%', '7,500', 'Houston, Texas']\n",
      "['91', 'Capital One Financial', 'Financials', '49,484', '29.0%', '51,987', 'Richmond, Virginia']\n",
      "['92', 'Plains All American Pipeline', 'Petroleum industry', '48,712', '-15.1%', '4,200', 'Houston, Texas']\n",
      "['93', 'World Kinect Corporation', 'Energy trading', '47,711', '-19.2%', '5,289', 'Doral, Florida']\n",
      "['94', 'AIG', 'Insurance', '46,802', '-17.1%', '25,200', 'New York City, New York']\n",
      "['95', 'Coca-Cola', 'Beverage', '45,754', '6.4%', '79,100', 'Atlanta, Georgia']\n",
      "['96', 'TIAA', 'Financials', '45,735', '11.8%', '16,023', 'New York City, New York']\n",
      "['97', 'CHS', 'Agriculture cooperative', '45,590', '-4.6%', '10,609', 'Inver Grove Heights, Minnesota']\n",
      "['98', 'Bristol-Myers Squibb', 'Pharmaceutical industry', '45,006', '-2.5%', '34,100', 'New York City, New York']\n",
      "['99', 'Dow Chemical Company', 'Chemical industry', '44,622', '-21.6%', '35,900', 'Midland, Michigan']\n",
      "['100', 'Best Buy', 'Retail', '43,452', '-6.1%', '85,000', 'Richfield, Minnesota']\n",
      "\n",
      "Table 2:\n",
      "Headers: ['Rank', 'Name', 'Industry', 'Revenue (USD billions)', 'Employees', 'Headquarters']\n",
      "['1', 'Cargill', 'Food industry', '177', '160,000', 'Minnetonka, Minnesota']\n",
      "['2', 'Koch Industries', 'Conglomerate', '125', '120,000', 'Wichita, Kansas']\n",
      "['3', 'Publix Super Markets', 'Retail', '54.5', '250,000', 'Lakeland, Florida']\n",
      "['4', 'Mars, Incorporated', 'Food industry', '47', '140,000', 'McLean, Virginia']\n",
      "['5', 'H-E-B', 'Retail', '43.6', '145,000', 'San Antonio, Texas']\n",
      "['6', 'Reyes Holdings', 'Wholesaling', '40', '36,000', 'Rosemont, Illinois']\n",
      "['7', 'Enterprise Holdings', 'Car rental', '35', '90,000', 'Clayton, Missouri']\n",
      "['8', 'C&S Wholesale Grocers', 'Wholesaling', '34.7', '15,000', 'Keene, New Hampshire']\n",
      "['9', \"Love's\", 'Petroleum industry and Retail', '26.5', '40,000', 'Oklahoma City, Oklahoma']\n",
      "['10', \"Southern Glazer's Wine and Spirits\", 'Food industry', '26.0', '24,000', 'Miramar, Florida']\n",
      "\n",
      "Table 3:\n",
      "Headers: ['Rank', 'Name', 'Industry', 'Profits(USD millions)']\n",
      "['1', 'Apple', 'Electronics', '96,995']\n",
      "['2', 'Berkshire Hathaway', 'Conglomerate', '96,223']\n",
      "['3', 'Alphabet', 'Technology', '73,795']\n",
      "['4', 'Microsoft', 'Technology', '72,361']\n",
      "['5', 'JPMorgan Chase', 'Financials', '49,552']\n",
      "['6', 'Meta Platforms', 'Technology', '39,098']\n",
      "['7', 'ExxonMobil', 'Petroleum industry', '36,010']\n",
      "['8', 'Johnson & Johnson', 'Pharmaceutical industry', '35,153']\n",
      "['9', 'Amazon', 'Retail/Technology', '30,425']\n",
      "['10', 'Nvidia', 'Technology', '29,760']\n"
     ]
    }
   ],
   "source": [
    "for index, table in enumerate(tables):\n",
    "    print(f\"\\nTable {index + 1}:\")\n",
    "    \n",
    "    headers = []\n",
    "    header_row = table.find_all('th')\n",
    "    for header in header_row:\n",
    "        headers.append(header.text.strip())\n",
    "    \n",
    "    if headers:\n",
    "        print(\"Headers:\", headers)\n",
    "\n",
    "    rows = table.find_all('tr')\n",
    "    for row in rows:\n",
    "        data = row.find_all('td')\n",
    "        row_data = [cell.text.strip() for cell in data]\n",
    "        if row_data:  # Skip empty rows\n",
    "            print(row_data)\n"
   ]
  },
  {
   "cell_type": "code",
   "execution_count": 9,
   "id": "638f2038-83f0-4f55-b37d-1ccae108c651",
   "metadata": {},
   "outputs": [
    {
     "name": "stdout",
     "output_type": "stream",
     "text": [
      "  Rank                Name                    Industry Revenue (USD millions)  \\\n",
      "0    1             Walmart                      Retail                648,125   \n",
      "1    2              Amazon  Retail and cloud computing                574,785   \n",
      "2    3               Apple        Electronics industry                383,482   \n",
      "3    4  UnitedHealth Group                  Healthcare                371,622   \n",
      "4    5  Berkshire Hathaway                Conglomerate                364,482   \n",
      "\n",
      "  Revenue growth  Employees           Headquarters  \n",
      "0           6.0%  2,100,000  Bentonville, Arkansas  \n",
      "1          11.9%  1,525,000    Seattle, Washington  \n",
      "2          -2.8%    161,000  Cupertino, California  \n",
      "3          14.6%    440,000  Minnetonka, Minnesota  \n",
      "4          20.7%    396,500        Omaha, Nebraska  \n"
     ]
    }
   ],
   "source": [
    "if len(tables) > 0:\n",
    "    table = tables[0]\n",
    "    \n",
    "    headers = []\n",
    "    header_row = table.find_all('th')\n",
    "    for header in header_row:\n",
    "        headers.append(header.text.strip())\n",
    "    \n",
    "    rows = table.find_all('tr')\n",
    "    table_data = []\n",
    "    \n",
    "    for row in rows:\n",
    "        data = row.find_all('td')\n",
    "        row_data = [cell.text.strip() for cell in data]\n",
    "        if row_data:  # Skip empty rows\n",
    "            table_data.append(row_data)\n",
    "    \n",
    "    if headers:\n",
    "        df = pd.DataFrame(table_data, columns=headers)\n",
    "    else:\n",
    "        df = pd.DataFrame(table_data)\n",
    "\n",
    "    print(df.head())\n",
    "else:\n",
    "    print(\"Table 1 not found.\")\n"
   ]
  },
  {
   "cell_type": "code",
   "execution_count": 10,
   "id": "bd700e04-581b-4e32-9505-c1dab02e5092",
   "metadata": {},
   "outputs": [],
   "source": [
    "a = df"
   ]
  },
  {
   "cell_type": "code",
   "execution_count": 11,
   "id": "46ea6d35-40dd-427c-ac35-0685485e8f54",
   "metadata": {},
   "outputs": [],
   "source": [
    "a.to_csv('List of the largest public companies.csv',index=False)"
   ]
  },
  {
   "cell_type": "code",
   "execution_count": 12,
   "id": "a4007eb8-3282-4d39-86f3-25bf41b35ed0",
   "metadata": {},
   "outputs": [
    {
     "name": "stdout",
     "output_type": "stream",
     "text": [
      "  Rank                  Name       Industry Revenue (USD billions) Employees  \\\n",
      "0    1               Cargill  Food industry                    177   160,000   \n",
      "1    2       Koch Industries   Conglomerate                    125   120,000   \n",
      "2    3  Publix Super Markets         Retail                   54.5   250,000   \n",
      "3    4    Mars, Incorporated  Food industry                     47   140,000   \n",
      "4    5                 H-E-B         Retail                   43.6   145,000   \n",
      "\n",
      "            Headquarters  \n",
      "0  Minnetonka, Minnesota  \n",
      "1        Wichita, Kansas  \n",
      "2      Lakeland, Florida  \n",
      "3       McLean, Virginia  \n",
      "4     San Antonio, Texas  \n"
     ]
    }
   ],
   "source": [
    "if len(tables) > 1:\n",
    "    table = tables[1]\n",
    "    \n",
    "    headers = []\n",
    "    header_row = table.find_all('th')\n",
    "    for header in header_row:\n",
    "        headers.append(header.text.strip())\n",
    "    \n",
    "    rows = table.find_all('tr')\n",
    "    table_data = []\n",
    "    \n",
    "    for row in rows:\n",
    "        data = row.find_all('td')\n",
    "        row_data = [cell.text.strip() for cell in data]\n",
    "        if row_data:  # Skip empty rows\n",
    "            table_data.append(row_data)\n",
    "\n",
    "    if headers:\n",
    "        df = pd.DataFrame(table_data, columns=headers)\n",
    "    else:\n",
    "        df = pd.DataFrame(table_data)\n",
    "    \n",
    "    print(df.head())\n",
    "else:\n",
    "    print(\"Table 2 not found.\")\n"
   ]
  },
  {
   "cell_type": "code",
   "execution_count": 15,
   "id": "9585b8a7-2f59-4646-872a-3ba46f9fcb87",
   "metadata": {},
   "outputs": [],
   "source": [
    "b = df"
   ]
  },
  {
   "cell_type": "code",
   "execution_count": 16,
   "id": "77bcafc3-c9a5-4545-9754-f1d298dba6dd",
   "metadata": {},
   "outputs": [],
   "source": [
    "b.to_csv('List of the largest private companies.csv',index=False)"
   ]
  },
  {
   "cell_type": "code",
   "execution_count": null,
   "id": "eca5e93a-bcc9-480c-8551-0873a18de996",
   "metadata": {},
   "outputs": [],
   "source": []
  },
  {
   "cell_type": "code",
   "execution_count": 17,
   "id": "6fe60090-9db3-4297-81a1-32e740e65218",
   "metadata": {},
   "outputs": [
    {
     "name": "stdout",
     "output_type": "stream",
     "text": [
      "  Rank                Name      Industry Profits(USD millions)\n",
      "0    1               Apple   Electronics                96,995\n",
      "1    2  Berkshire Hathaway  Conglomerate                96,223\n",
      "2    3            Alphabet    Technology                73,795\n",
      "3    4           Microsoft    Technology                72,361\n",
      "4    5      JPMorgan Chase    Financials                49,552\n"
     ]
    }
   ],
   "source": [
    "if len(tables) > 2:\n",
    "    table = tables[2]\n",
    "\n",
    "    headers = []\n",
    "    header_row = table.find_all('th')\n",
    "    for header in header_row:\n",
    "        headers.append(header.text.strip())\n",
    "    \n",
    "    rows = table.find_all('tr')\n",
    "    table_data = []\n",
    "    \n",
    "    for row in rows:\n",
    "        data = row.find_all('td')\n",
    "        row_data = [cell.text.strip() for cell in data]\n",
    "        if row_data:  # Skip empty rows\n",
    "            table_data.append(row_data)\n",
    "    \n",
    "\n",
    "    if headers:\n",
    "        df = pd.DataFrame(table_data, columns=headers)\n",
    "    else:\n",
    "        df = pd.DataFrame(table_data)\n",
    "\n",
    "    print(df.head())\n",
    "else:\n",
    "    print(\"Table 3 not found.\")\n"
   ]
  },
  {
   "cell_type": "code",
   "execution_count": 19,
   "id": "205623fd-c84c-4c21-a317-a9c5fbaf3680",
   "metadata": {},
   "outputs": [],
   "source": [
    "c=df"
   ]
  },
  {
   "cell_type": "code",
   "execution_count": 20,
   "id": "9125b97b-6ec6-4130-9f65-f0ae011aaaca",
   "metadata": {},
   "outputs": [],
   "source": [
    "c.to_csv('List of the companies by profit.csv',index=False)"
   ]
  },
  {
   "cell_type": "code",
   "execution_count": null,
   "id": "06f12038-cf1d-4b2c-bdbe-c935ccc6c513",
   "metadata": {},
   "outputs": [],
   "source": []
  }
 ],
 "metadata": {
  "kernelspec": {
   "display_name": "Python 3 (ipykernel)",
   "language": "python",
   "name": "python3"
  },
  "language_info": {
   "codemirror_mode": {
    "name": "ipython",
    "version": 3
   },
   "file_extension": ".py",
   "mimetype": "text/x-python",
   "name": "python",
   "nbconvert_exporter": "python",
   "pygments_lexer": "ipython3",
   "version": "3.12.7"
  }
 },
 "nbformat": 4,
 "nbformat_minor": 5
}
